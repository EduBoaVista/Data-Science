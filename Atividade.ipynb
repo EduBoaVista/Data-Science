{
  "cells": [
    {
      "cell_type": "markdown",
      "metadata": {
        "id": "TXll1aHHApOx"
      },
      "source": [
        "# Aula 03 - NumPy (Parte II)"
      ]
    },
    {
      "cell_type": "markdown",
      "metadata": {
        "id": "YrFBaPzMApOz"
      },
      "source": [
        "<img src=\"https://upload.wikimedia.org/wikipedia/commons/thumb/3/31/NumPy_logo_2020.svg/2560px-NumPy_logo_2020.svg.png\" alt=\"Alternative text\" />"
      ]
    },
    {
      "cell_type": "markdown",
      "metadata": {
        "id": "qnymeYFHApO0"
      },
      "source": [
        "[Guia rápido de uso da biblioteca](https://numpy.org/devdocs/user/quickstart.html)\n",
        "\n",
        "[Guia para iniciantes](https://numpy.org/devdocs/user/absolute_beginners.html)"
      ]
    },
    {
      "cell_type": "markdown",
      "metadata": {
        "id": "1o5CfidoApO0"
      },
      "source": [
        "Na aula passada, vimos que:\n",
        "\n",
        "- um **array** é o elemento básico por meio do qual a biblioteca *numpy* opera;\n",
        "- este elemento **difere de uma lista**, por ser homogêneo e possibilitar cálculos de uma maneira altamente eficiente;\n",
        "- a **indexação** de arrays é muito similar àquela de listas;\n",
        "- a biblioteca *numpy* fornece ferramentas para gerar arrays baseados em distribuições estatísticas (como uniforme e normal) de maneira aleatória;\n",
        "- existem diversos métodos que sumarizam alguamas propriedades dos vetores, como *.mean()*, *.std()*, entre outros."
      ]
    },
    {
      "cell_type": "markdown",
      "metadata": {
        "id": "FkOjyEBnApO1"
      },
      "source": [
        "Na aula de hoje, vamos explorar os conceitos de **filtros** e de **matrizes** com numpy."
      ]
    },
    {
      "cell_type": "markdown",
      "metadata": {
        "id": "tx-KKuOzApO2"
      },
      "source": [
        "___"
      ]
    },
    {
      "cell_type": "markdown",
      "metadata": {
        "id": "c7jBic5VApO2"
      },
      "source": [
        "#### Filtros (máscaras)\n",
        "\n",
        "Uma das funções mais importantes do numpy é a possibilidade de construção de **filtros**, que também são chamados de **máscaras**\n",
        "\n",
        "O objetivo dos filtros é **selecionar apenas os elementos de um array que satisfaçam determinada condição**"
      ]
    },
    {
      "cell_type": "code",
      "execution_count": null,
      "metadata": {
        "id": "6KFuuT2tApO3",
        "outputId": "e304c711-3ceb-42ae-fb66-79bf661d83da"
      },
      "outputs": [
        {
          "data": {
            "text/plain": [
              "array([0.80871259, 0.16134652, 0.55347553, 0.26900137, 0.90197188,\n",
              "       0.06355048, 0.02206885, 0.82342372, 0.13533295, 0.25639517,\n",
              "       0.94369673, 0.59299958, 0.91276365, 0.15018847, 0.42505178,\n",
              "       0.58308974, 0.95497367, 0.98718327, 0.55111349, 0.12027837])"
            ]
          },
          "execution_count": 4,
          "metadata": {},
          "output_type": "execute_result"
        }
      ],
      "source": [
        "# definindo um array aleatoriamente\n",
        "import numpy as np\n",
        "arr = np.random.rand(20)\n",
        "arr"
      ]
    },
    {
      "cell_type": "markdown",
      "metadata": {
        "id": "K-jvGj7JApO5"
      },
      "source": [
        "Ao usar um **operador lógico** juntamente com um array, o numpy **aplica a operação lógica a cada um dos elementos do array**, retornando um **array de bools** com o resultado de cada uma das operações lógicas:"
      ]
    },
    {
      "cell_type": "code",
      "execution_count": null,
      "metadata": {
        "id": "Szz3XjRaApO6",
        "outputId": "563f0431-6465-4c33-a4c1-f482efb9cdb6"
      },
      "outputs": [
        {
          "data": {
            "text/plain": [
              "array([False,  True, False,  True, False,  True,  True, False,  True,\n",
              "        True, False, False, False,  True,  True, False, False, False,\n",
              "       False,  True])"
            ]
          },
          "execution_count": 5,
          "metadata": {},
          "output_type": "execute_result"
        }
      ],
      "source": [
        "# quais elementos do array são menores que 0.5?\n",
        "arr < 0.5"
      ]
    },
    {
      "cell_type": "code",
      "execution_count": null,
      "metadata": {
        "id": "562LKbexApO7",
        "outputId": "726b2436-c16d-4b8f-d048-287388636684"
      },
      "outputs": [
        {
          "data": {
            "text/plain": [
              "array([ True, False,  True, False,  True, False, False,  True, False,\n",
              "       False,  True,  True,  True, False, False,  True,  True,  True,\n",
              "        True, False])"
            ]
          },
          "execution_count": 8,
          "metadata": {},
          "output_type": "execute_result"
        }
      ],
      "source": [
        "# Quantos elementos são maiores que 0.5?\n",
        "(arr > 0.5)"
      ]
    },
    {
      "cell_type": "code",
      "execution_count": null,
      "metadata": {
        "id": "ehkp_o8uApO8",
        "outputId": "f58dfeb5-cbdd-4c58-dae7-bc8e8b50db25"
      },
      "outputs": [
        {
          "data": {
            "text/plain": [
              "20"
            ]
          },
          "execution_count": 13,
          "metadata": {},
          "output_type": "execute_result"
        }
      ],
      "source": [
        "(arr > 0.5).size"
      ]
    },
    {
      "cell_type": "code",
      "execution_count": null,
      "metadata": {
        "id": "grHM83UWApO8",
        "outputId": "feca2a6c-795a-40e1-b1bd-d9aaf9467ef2"
      },
      "outputs": [
        {
          "data": {
            "text/plain": [
              "11"
            ]
          },
          "execution_count": 12,
          "metadata": {},
          "output_type": "execute_result"
        }
      ],
      "source": [
        "(arr > 0.5).sum()"
      ]
    },
    {
      "cell_type": "markdown",
      "metadata": {
        "id": "2aU_T18MApO9"
      },
      "source": [
        "Uma vez criado o filtro, é possível **utilizá-lo como indexador do array**, para selecionar **apenas os elementos com indice correspondente a True no filtro**"
      ]
    },
    {
      "cell_type": "code",
      "execution_count": null,
      "metadata": {
        "id": "zonOYZkVApO9",
        "outputId": "4594ca64-3491-4e21-a86a-ba851cbf0625"
      },
      "outputs": [
        {
          "data": {
            "text/plain": [
              "array([0.80871259, 0.16134652, 0.55347553, 0.26900137, 0.90197188,\n",
              "       0.06355048, 0.02206885, 0.82342372, 0.13533295, 0.25639517,\n",
              "       0.94369673, 0.59299958, 0.91276365, 0.15018847, 0.42505178,\n",
              "       0.58308974, 0.95497367, 0.98718327, 0.55111349, 0.12027837])"
            ]
          },
          "execution_count": 14,
          "metadata": {},
          "output_type": "execute_result"
        }
      ],
      "source": [
        "arr"
      ]
    },
    {
      "cell_type": "code",
      "execution_count": null,
      "metadata": {
        "id": "V_wgrg2IApO-",
        "outputId": "8cdcb4a6-8dfe-420a-ccf1-f6ab1be6fc30"
      },
      "outputs": [
        {
          "data": {
            "text/plain": [
              "array([0.16134652, 0.26900137, 0.06355048, 0.02206885, 0.13533295,\n",
              "       0.25639517, 0.15018847, 0.42505178, 0.12027837])"
            ]
          },
          "execution_count": 17,
          "metadata": {},
          "output_type": "execute_result"
        }
      ],
      "source": [
        "# quero elementos do \"arr\" que satisfaçam uma dada condição (ser menor que 0.5)\n",
        "arr[arr < 0.5]"
      ]
    },
    {
      "cell_type": "code",
      "execution_count": null,
      "metadata": {
        "id": "KxPhBEY7ApO-",
        "outputId": "3807bfe7-c058-49c0-ad71-27b6ef5dbbac"
      },
      "outputs": [
        {
          "data": {
            "text/plain": [
              "array([0.80871259, 0.55347553, 0.90197188, 0.82342372, 0.94369673,\n",
              "       0.59299958, 0.91276365, 0.58308974, 0.95497367, 0.98718327,\n",
              "       0.55111349])"
            ]
          },
          "execution_count": 18,
          "metadata": {},
          "output_type": "execute_result"
        }
      ],
      "source": [
        "# quero elementos do \"arr\" que satisfaçam uma dada condição (ser maior que 0.5)\n",
        "arr[arr > 0.5]"
      ]
    },
    {
      "cell_type": "code",
      "execution_count": null,
      "metadata": {
        "id": "k3sWya8zApO_",
        "outputId": "03a95933-1ad7-415e-d1dc-c3efdfbb6b62"
      },
      "outputs": [
        {
          "data": {
            "text/plain": [
              "array([], dtype=float64)"
            ]
          },
          "execution_count": 19,
          "metadata": {},
          "output_type": "execute_result"
        }
      ],
      "source": [
        "# quero elementos do \"arr\" que satisfaçam uma dada condição (ser igual a 0.5)\n",
        "arr[arr == 0.5]"
      ]
    },
    {
      "cell_type": "markdown",
      "metadata": {
        "id": "B0Gn5l1KApO_"
      },
      "source": [
        "Mais um exemplo..."
      ]
    },
    {
      "cell_type": "code",
      "execution_count": null,
      "metadata": {
        "id": "SHyqzzwUApPA",
        "outputId": "2177787f-0a0e-419e-b4f6-7145e34037b9"
      },
      "outputs": [
        {
          "data": {
            "text/plain": [
              "array([52, 97, 72, 88, 44, 46, 90, 64, 18, 80, 15, 64, 15, 68, 81,  0, 63,\n",
              "       31, 66, 85])"
            ]
          },
          "execution_count": 20,
          "metadata": {},
          "output_type": "execute_result"
        }
      ],
      "source": [
        "# definindo um novo array aleatório de inteiros\n",
        "\n",
        "ints = np.random.randint(0, 100, 20)\n",
        "ints"
      ]
    },
    {
      "cell_type": "code",
      "execution_count": null,
      "metadata": {
        "id": "WIHmN76uApPA",
        "outputId": "a2b4f8ba-b4e6-44b8-a748-2dbab1bed1f0"
      },
      "outputs": [
        {
          "data": {
            "text/plain": [
              "array([52, 72, 88, 44, 46, 90, 64, 18, 80, 64, 68,  0, 66])"
            ]
          },
          "execution_count": 22,
          "metadata": {},
          "output_type": "execute_result"
        }
      ],
      "source": [
        "# filtrando apenas os pares\n",
        "ints[ints % 2 == 0]"
      ]
    },
    {
      "cell_type": "code",
      "execution_count": null,
      "metadata": {
        "id": "muNDPdM6ApPB",
        "outputId": "88ea96b8-5aa7-4c3c-9db9-3605b3efcea8"
      },
      "outputs": [
        {
          "data": {
            "text/plain": [
              "array([97, 15, 15, 81, 63, 31, 85])"
            ]
          },
          "execution_count": 23,
          "metadata": {},
          "output_type": "execute_result"
        }
      ],
      "source": [
        "# filtrando apenas os ímpares\n",
        "ints[ints % 2 != 0]"
      ]
    },
    {
      "cell_type": "code",
      "execution_count": null,
      "metadata": {
        "id": "tRGAfic-ApPB",
        "outputId": "a038cbfc-9d6d-49a0-de97-c8f545890c00"
      },
      "outputs": [
        {
          "data": {
            "text/plain": [
              "array([97, 15, 15, 81, 63, 31, 85])"
            ]
          },
          "execution_count": 26,
          "metadata": {},
          "output_type": "execute_result"
        }
      ],
      "source": [
        "# filtrando apenas os ímpares\n",
        "ints[~(ints % 2 == 0)]"
      ]
    },
    {
      "cell_type": "code",
      "execution_count": null,
      "metadata": {
        "id": "VKqRy93CApPC",
        "outputId": "845f0d37-5919-412a-d343-39104209ad23"
      },
      "outputs": [
        {
          "data": {
            "text/plain": [
              "7"
            ]
          },
          "execution_count": 27,
          "metadata": {},
          "output_type": "execute_result"
        }
      ],
      "source": [
        "# quantidade de ímpáres\n",
        "ints[~(ints % 2 == 0)].size"
      ]
    },
    {
      "cell_type": "code",
      "execution_count": null,
      "metadata": {
        "id": "br5VCuRGApPC",
        "outputId": "2b86d9a2-1f47-45e0-c333-3e2627f000f3"
      },
      "outputs": [
        {
          "data": {
            "text/plain": [
              "387"
            ]
          },
          "execution_count": 28,
          "metadata": {},
          "output_type": "execute_result"
        }
      ],
      "source": [
        "# soma dos ímpáres\n",
        "ints[~(ints % 2 == 0)].sum()"
      ]
    },
    {
      "cell_type": "markdown",
      "metadata": {
        "id": "U3bRLTXUApPC"
      },
      "source": [
        "[np.where](https://numpy.org/doc/stable/reference/generated/numpy.where.html)"
      ]
    },
    {
      "cell_type": "code",
      "execution_count": null,
      "metadata": {
        "id": "84jEZh6nApPD",
        "outputId": "c285e882-04da-43da-c5e7-c396f2189b2d"
      },
      "outputs": [
        {
          "data": {
            "text/plain": [
              "array([52, 97, 72, 88, 44, 46, 90, 64, 18, 80, 15, 64, 15, 68, 81,  0, 63,\n",
              "       31, 66, 85])"
            ]
          },
          "execution_count": 31,
          "metadata": {},
          "output_type": "execute_result"
        }
      ],
      "source": [
        "ints"
      ]
    },
    {
      "cell_type": "code",
      "execution_count": null,
      "metadata": {
        "id": "Z2plVW1mApPD",
        "outputId": "9d3ccc87-f258-4c8c-e011-b15bac2c7bee"
      },
      "outputs": [
        {
          "data": {
            "text/plain": [
              "array([52., nan, 72., 88., 44., 46., 90., 64., 18., 80., nan, 64., nan,\n",
              "       68., nan,  0., nan, nan, 66., nan])"
            ]
          },
          "execution_count": 30,
          "metadata": {},
          "output_type": "execute_result"
        }
      ],
      "source": [
        "# Filtro para ser par\n",
        "np.where(ints % 2 == 0, ints, np.nan)"
      ]
    },
    {
      "cell_type": "code",
      "execution_count": null,
      "metadata": {
        "id": "COmCDJeIApPD",
        "outputId": "c195063b-af7f-4434-f880-7b5270808b63"
      },
      "outputs": [
        {
          "data": {
            "text/plain": [
              "False"
            ]
          },
          "execution_count": 33,
          "metadata": {},
          "output_type": "execute_result"
        }
      ],
      "source": [
        "a = 10\n",
        "~ a > 1"
      ]
    },
    {
      "cell_type": "markdown",
      "metadata": {
        "id": "rIvhljBlApPE"
      },
      "source": [
        "Também é possível aplicar **filtros compostos**!\n",
        "\n",
        "Pra fazer isso, nós fazems uma **composição lógica** entre os filtros (análogo ao \"and\" e ao \"or\")\n",
        "\n",
        "No caso de arrays, usamos:\n",
        "\n",
        "- \"&\" para \"and\"\n",
        "- \"|\" para \"or\"\n",
        "- \"~\" para \"not\""
      ]
    },
    {
      "cell_type": "code",
      "execution_count": null,
      "metadata": {
        "id": "Oi44KEWoApPE",
        "outputId": "35b59aef-88d3-496d-81c1-c369e3f35f23"
      },
      "outputs": [
        {
          "data": {
            "text/plain": [
              "array([ True, False,  True,  True, False, False,  True,  True, False,\n",
              "        True, False,  True, False,  True, False, False, False, False,\n",
              "        True, False])"
            ]
          },
          "execution_count": 34,
          "metadata": {},
          "output_type": "execute_result"
        }
      ],
      "source": [
        "# filtrar divisíveis por 2 e maiores que 50\n",
        "(ints % 2 == 0) & (ints > 50)"
      ]
    },
    {
      "cell_type": "code",
      "execution_count": null,
      "metadata": {
        "id": "AKFl-oaXApPF",
        "outputId": "4ec1de0b-6a3f-4978-eb9d-87984c5a1525"
      },
      "outputs": [
        {
          "data": {
            "text/plain": [
              "array([52, 72, 88, 90, 64, 80, 64, 68, 66])"
            ]
          },
          "execution_count": 35,
          "metadata": {},
          "output_type": "execute_result"
        }
      ],
      "source": [
        "# filtrar divisíveis por 2 e maiores que 50\n",
        "ints[(ints % 2 == 0) & (ints > 50)]"
      ]
    },
    {
      "cell_type": "code",
      "execution_count": null,
      "metadata": {
        "id": "QWgL-7pMApPF",
        "outputId": "e347ce77-9ade-4bac-d305-69792a7169d3"
      },
      "outputs": [
        {
          "data": {
            "text/plain": [
              "array([52, 97, 72, 88, 44, 46, 90, 64, 18, 80, 64, 68, 81,  0, 63, 66, 85])"
            ]
          },
          "execution_count": 36,
          "metadata": {},
          "output_type": "execute_result"
        }
      ],
      "source": [
        "# filtrar divisíveis por 2 OU maiores que 50\n",
        "ints[(ints % 2 == 0) | (ints > 50)]"
      ]
    },
    {
      "cell_type": "code",
      "execution_count": null,
      "metadata": {
        "id": "OBloIQMoApPF",
        "outputId": "ae5af0e0-b11a-45b8-e98b-f3512b9302f3"
      },
      "outputs": [
        {
          "data": {
            "text/plain": [
              "array([52, 97, 72, 88, 90, 64, 80, 15, 64, 15, 68, 81, 63, 31, 66, 85])"
            ]
          },
          "execution_count": 37,
          "metadata": {},
          "output_type": "execute_result"
        }
      ],
      "source": [
        "# filtrar ímpares OU maiores que 50\n",
        "ints[~ (ints % 2 == 0) | (ints > 50)]"
      ]
    },
    {
      "cell_type": "markdown",
      "metadata": {
        "id": "K0E6tn-iApPF"
      },
      "source": [
        "___"
      ]
    },
    {
      "cell_type": "markdown",
      "metadata": {
        "id": "CbVHRhW1ApPG"
      },
      "source": [
        "### Matrizes"
      ]
    },
    {
      "cell_type": "markdown",
      "metadata": {
        "id": "e_IPJEhKApPG"
      },
      "source": [
        "Costumamos nos referir às **matrizes** como arrays multidimensionais (i.e., mais de uma dimensão)."
      ]
    },
    {
      "cell_type": "markdown",
      "metadata": {
        "id": "nmZD5vomApPG"
      },
      "source": [
        "<img src = \"https://numpy.org/devdocs/_images/np_create_matrix.png\" />"
      ]
    },
    {
      "cell_type": "code",
      "execution_count": null,
      "metadata": {
        "id": "C6tPTwteApPH",
        "outputId": "a8c6e16f-10f4-4a36-df08-bd4b7cb05a55"
      },
      "outputs": [
        {
          "data": {
            "text/plain": [
              "array([[1, 2],\n",
              "       [3, 4],\n",
              "       [5, 6]])"
            ]
          },
          "execution_count": 41,
          "metadata": {},
          "output_type": "execute_result"
        }
      ],
      "source": [
        "data = np.array([[1,2],[3,4],[5,6]])\n",
        "data"
      ]
    },
    {
      "cell_type": "markdown",
      "metadata": {
        "id": "M4evACUKApPH"
      },
      "source": [
        "[numpy.shape](https://numpy.org/doc/stable/reference/generated/numpy.shape.html)"
      ]
    },
    {
      "cell_type": "code",
      "execution_count": null,
      "metadata": {
        "id": "edWA100GApPH",
        "outputId": "c4a8e2b8-f985-481c-8a3e-ccbe5703725d"
      },
      "outputs": [
        {
          "data": {
            "text/plain": [
              "6"
            ]
          },
          "execution_count": 42,
          "metadata": {},
          "output_type": "execute_result"
        }
      ],
      "source": [
        "data.size"
      ]
    },
    {
      "cell_type": "code",
      "execution_count": null,
      "metadata": {
        "id": "15qLJOkIApPH",
        "outputId": "43a007c2-bb7c-4c9c-d69c-da8285bb3de0"
      },
      "outputs": [
        {
          "data": {
            "text/plain": [
              "(3, 2)"
            ]
          },
          "execution_count": 43,
          "metadata": {},
          "output_type": "execute_result"
        }
      ],
      "source": [
        "# Retorna o formato da matriz como numero_de_linhas x numero_de_colunas\n",
        "data.shape"
      ]
    },
    {
      "cell_type": "markdown",
      "metadata": {
        "id": "CLiZpb5AApPI"
      },
      "source": [
        "#### Indexação de matrizes"
      ]
    },
    {
      "cell_type": "markdown",
      "metadata": {
        "id": "-JgKHkIqApPI"
      },
      "source": [
        "A idexação com matrizes segue a mesma lógica dos arrays. Há algumas formas de indexar o mesmo elemento, conforme ilustrado abaixo."
      ]
    },
    {
      "cell_type": "markdown",
      "metadata": {
        "id": "S_AlNMzVApPI"
      },
      "source": [
        "Suponhamos que queiramos o elemento da segunda linha da matriz, e da segunda coluna."
      ]
    },
    {
      "cell_type": "code",
      "execution_count": null,
      "metadata": {
        "id": "Naab5e_ZApPI",
        "outputId": "e7fcf1f3-52b1-40bd-c32d-02dfdfa97d02"
      },
      "outputs": [
        {
          "data": {
            "text/plain": [
              "array([[1, 2],\n",
              "       [3, 4],\n",
              "       [5, 6]])"
            ]
          },
          "execution_count": 45,
          "metadata": {},
          "output_type": "execute_result"
        }
      ],
      "source": [
        "data"
      ]
    },
    {
      "cell_type": "code",
      "execution_count": null,
      "metadata": {
        "id": "nRiqBnmeApPJ",
        "outputId": "be739f56-d041-4aa5-f81b-e83cf09aa288"
      },
      "outputs": [
        {
          "data": {
            "text/plain": [
              "4"
            ]
          },
          "execution_count": 44,
          "metadata": {},
          "output_type": "execute_result"
        }
      ],
      "source": [
        "# ordem: linha, coluna\n",
        "data[1,1]"
      ]
    },
    {
      "cell_type": "markdown",
      "metadata": {
        "id": "YxaFa3DaApPJ"
      },
      "source": [
        "Alternativamente, podemos indexar o mesmo elemento escrevendo:"
      ]
    },
    {
      "cell_type": "code",
      "execution_count": null,
      "metadata": {
        "id": "u3UdlY-sApPJ",
        "outputId": "92782f82-7866-4ce0-fd7c-377fba50d02f"
      },
      "outputs": [
        {
          "data": {
            "text/plain": [
              "4"
            ]
          },
          "execution_count": 46,
          "metadata": {},
          "output_type": "execute_result"
        }
      ],
      "source": [
        "data[1][1]"
      ]
    },
    {
      "cell_type": "markdown",
      "metadata": {
        "id": "jeBHA_SvApPJ"
      },
      "source": [
        "<img src = \"https://numpy.org/devdocs/_images/np_matrix_indexing.png\" />"
      ]
    },
    {
      "cell_type": "markdown",
      "metadata": {
        "id": "F9Dwh9vcApPK"
      },
      "source": [
        "#### Agregações"
      ]
    },
    {
      "cell_type": "markdown",
      "metadata": {
        "id": "FM3eQnc8ApPK"
      },
      "source": [
        "Similarmente a como fizemos com **arrays**, também podemos aplicar **funções de agregação** às matrizes:"
      ]
    },
    {
      "cell_type": "code",
      "execution_count": null,
      "metadata": {
        "id": "setgf0beApPK",
        "outputId": "15849147-57a0-4e8c-8f86-3cb4585b8e07"
      },
      "outputs": [
        {
          "data": {
            "text/plain": [
              "array([[1, 2],\n",
              "       [3, 4],\n",
              "       [5, 6]])"
            ]
          },
          "execution_count": 48,
          "metadata": {},
          "output_type": "execute_result"
        }
      ],
      "source": [
        "data"
      ]
    },
    {
      "cell_type": "code",
      "execution_count": null,
      "metadata": {
        "id": "V3wg2E-7ApPK",
        "outputId": "eaf6bc66-3470-4e91-ebf0-e90a7042e23a"
      },
      "outputs": [
        {
          "data": {
            "text/plain": [
              "6"
            ]
          },
          "execution_count": 47,
          "metadata": {},
          "output_type": "execute_result"
        }
      ],
      "source": [
        "data.max()"
      ]
    },
    {
      "cell_type": "code",
      "execution_count": null,
      "metadata": {
        "id": "oiHTxEhAApPK",
        "outputId": "7a45d16e-a26c-4956-ca95-b59e9a5c4e33"
      },
      "outputs": [
        {
          "data": {
            "text/plain": [
              "1"
            ]
          },
          "execution_count": 49,
          "metadata": {},
          "output_type": "execute_result"
        }
      ],
      "source": [
        "data.min()"
      ]
    },
    {
      "cell_type": "code",
      "execution_count": null,
      "metadata": {
        "id": "ubfar16HApPL",
        "outputId": "73b146c2-c7b9-48eb-82c5-6d34cec59746"
      },
      "outputs": [
        {
          "data": {
            "text/plain": [
              "21"
            ]
          },
          "execution_count": 50,
          "metadata": {},
          "output_type": "execute_result"
        }
      ],
      "source": [
        "data.sum()"
      ]
    },
    {
      "cell_type": "markdown",
      "metadata": {
        "id": "aD4vYAWRApPL"
      },
      "source": [
        "<img src = \"https://numpy.org/devdocs/_images/np_matrix_aggregation.png\" />"
      ]
    },
    {
      "cell_type": "markdown",
      "metadata": {
        "id": "y8i_-jFMApPL"
      },
      "source": [
        "Também podemos ter situações em que gostaríamos de **agregar por linhas e/ou colunas**, o que também é possível, especificando o parâmetro *axis*, conforme abaixo."
      ]
    },
    {
      "cell_type": "code",
      "execution_count": null,
      "metadata": {
        "id": "htpIaRdFApPL",
        "outputId": "c15af9b7-81d7-4584-94e1-984574ed4b55"
      },
      "outputs": [
        {
          "data": {
            "text/plain": [
              "array([[1, 2],\n",
              "       [3, 4],\n",
              "       [5, 6]])"
            ]
          },
          "execution_count": 52,
          "metadata": {},
          "output_type": "execute_result"
        }
      ],
      "source": [
        "data"
      ]
    },
    {
      "cell_type": "code",
      "execution_count": null,
      "metadata": {
        "id": "ZmZ3zPVIApPM",
        "outputId": "c25d63bb-deab-4959-a2e0-7d3b7b84bbc7"
      },
      "outputs": [
        {
          "data": {
            "text/plain": [
              "array([5, 6])"
            ]
          },
          "execution_count": 51,
          "metadata": {},
          "output_type": "execute_result"
        }
      ],
      "source": [
        "# \"axis = 0\" opera na direção das colunas, avaliando entre linhas\n",
        "data.max(axis = 0)"
      ]
    },
    {
      "cell_type": "code",
      "execution_count": null,
      "metadata": {
        "id": "YdFv3lOEApPM",
        "outputId": "becd9ca0-3fee-4735-8a0e-4b05e51d9af0"
      },
      "outputs": [
        {
          "data": {
            "text/plain": [
              "array([2, 4, 6])"
            ]
          },
          "execution_count": 53,
          "metadata": {},
          "output_type": "execute_result"
        }
      ],
      "source": [
        "# \"axis = 1\" opera na direação das linhas, avaliando entre colunas\n",
        "data.max(axis = 1)"
      ]
    },
    {
      "cell_type": "markdown",
      "metadata": {
        "id": "Xxb0sQMpApPM"
      },
      "source": [
        "<img src = \"https://numpy.org/devdocs/_images/np_matrix_aggregation_row.png\" />"
      ]
    },
    {
      "cell_type": "markdown",
      "metadata": {
        "id": "GHBKQh-5ApPN"
      },
      "source": [
        "[numpy.reshape](https://numpy.org/doc/stable/reference/generated/numpy.reshape.html)"
      ]
    },
    {
      "cell_type": "markdown",
      "metadata": {
        "id": "8uNM9NnDApPN"
      },
      "source": [
        "Em algumas situações, pode ser útil **reformatar** nosso conjunto de dados. Para isso, utilizamos a função *.reshape()*."
      ]
    },
    {
      "cell_type": "code",
      "execution_count": null,
      "metadata": {
        "id": "hwZDH0jEApPN",
        "outputId": "9d7b82a3-3ec4-4dd0-c137-82a3bf642800"
      },
      "outputs": [
        {
          "data": {
            "text/plain": [
              "array([0, 1, 2, 3, 4, 5, 6, 7, 8, 9])"
            ]
          },
          "execution_count": 54,
          "metadata": {},
          "output_type": "execute_result"
        }
      ],
      "source": [
        "# Vamos supor um vetor de 10 elementos\n",
        "dados_originais = np.arange(0,10)\n",
        "dados_originais"
      ]
    },
    {
      "cell_type": "code",
      "execution_count": null,
      "metadata": {
        "id": "-xv8nOt_ApPN",
        "outputId": "6b91300f-c801-4ae7-fed7-4977e2e70e19"
      },
      "outputs": [
        {
          "data": {
            "text/plain": [
              "array([[0, 1, 2, 3, 4],\n",
              "       [5, 6, 7, 8, 9]])"
            ]
          },
          "execution_count": 56,
          "metadata": {},
          "output_type": "execute_result"
        }
      ],
      "source": [
        "# Vamos transformá-lo em uma matriz de duas linhas\n",
        "dados_reformatados = np.reshape(dados_originais, [2,5])\n",
        "dados_reformatados"
      ]
    },
    {
      "cell_type": "code",
      "execution_count": null,
      "metadata": {
        "id": "Pp-GPZOjApPN",
        "outputId": "0ffcaf2b-e173-4531-eb02-43c130db3ea9"
      },
      "outputs": [
        {
          "data": {
            "text/plain": [
              "(2, 5)"
            ]
          },
          "execution_count": 57,
          "metadata": {},
          "output_type": "execute_result"
        }
      ],
      "source": [
        "dados_reformatados.shape"
      ]
    },
    {
      "cell_type": "code",
      "execution_count": null,
      "metadata": {
        "id": "1tLvCDw2ApPO",
        "outputId": "af46c48f-199c-4be0-8c91-ae7b72ed5391"
      },
      "outputs": [
        {
          "data": {
            "text/plain": [
              "array([[0, 1],\n",
              "       [2, 3],\n",
              "       [4, 5],\n",
              "       [6, 7],\n",
              "       [8, 9]])"
            ]
          },
          "execution_count": 58,
          "metadata": {},
          "output_type": "execute_result"
        }
      ],
      "source": [
        "# Vamos transformá-lo em uma matriz de duas colunas\n",
        "dados_reformatados = np.reshape(dados_originais, [5,2])\n",
        "dados_reformatados"
      ]
    },
    {
      "cell_type": "code",
      "execution_count": null,
      "metadata": {
        "id": "Ixy-HM7XApPO",
        "outputId": "10118d65-6d97-4239-dda7-2ce851bb0a49"
      },
      "outputs": [
        {
          "data": {
            "text/plain": [
              "(5, 2)"
            ]
          },
          "execution_count": 60,
          "metadata": {},
          "output_type": "execute_result"
        }
      ],
      "source": [
        "dados_reformatados.shape"
      ]
    },
    {
      "cell_type": "markdown",
      "metadata": {
        "id": "TP9i-_SsApPP"
      },
      "source": [
        "**Atenção:** ao utilizar o reshape, o número de elementos total nunca pode ser alterado!"
      ]
    },
    {
      "cell_type": "code",
      "execution_count": null,
      "metadata": {
        "id": "nqzZLRcbApPP",
        "outputId": "7ce7818f-df70-4bc7-ec7e-f6e8b0deb1e7"
      },
      "outputs": [
        {
          "ename": "ValueError",
          "evalue": "cannot reshape array of size 10 into shape (3,3)",
          "output_type": "error",
          "traceback": [
            "\u001b[1;31m---------------------------------------------------------------------------\u001b[0m",
            "\u001b[1;31mValueError\u001b[0m                                Traceback (most recent call last)",
            "\u001b[1;32m<ipython-input-61-30f21ae41519>\u001b[0m in \u001b[0;36m<module>\u001b[1;34m\u001b[0m\n\u001b[1;32m----> 1\u001b[1;33m \u001b[0mnp\u001b[0m\u001b[1;33m.\u001b[0m\u001b[0mreshape\u001b[0m\u001b[1;33m(\u001b[0m\u001b[0mdados_originais\u001b[0m\u001b[1;33m,\u001b[0m \u001b[1;33m[\u001b[0m\u001b[1;36m3\u001b[0m\u001b[1;33m,\u001b[0m\u001b[1;36m3\u001b[0m\u001b[1;33m]\u001b[0m\u001b[1;33m)\u001b[0m\u001b[1;33m\u001b[0m\u001b[1;33m\u001b[0m\u001b[0m\n\u001b[0m",
            "\u001b[1;32m<__array_function__ internals>\u001b[0m in \u001b[0;36mreshape\u001b[1;34m(*args, **kwargs)\u001b[0m\n",
            "\u001b[1;32m~\\anaconda3\\lib\\site-packages\\numpy\\core\\fromnumeric.py\u001b[0m in \u001b[0;36mreshape\u001b[1;34m(a, newshape, order)\u001b[0m\n\u001b[0;32m    297\u001b[0m            [5, 6]])\n\u001b[0;32m    298\u001b[0m     \"\"\"\n\u001b[1;32m--> 299\u001b[1;33m     \u001b[1;32mreturn\u001b[0m \u001b[0m_wrapfunc\u001b[0m\u001b[1;33m(\u001b[0m\u001b[0ma\u001b[0m\u001b[1;33m,\u001b[0m \u001b[1;34m'reshape'\u001b[0m\u001b[1;33m,\u001b[0m \u001b[0mnewshape\u001b[0m\u001b[1;33m,\u001b[0m \u001b[0morder\u001b[0m\u001b[1;33m=\u001b[0m\u001b[0morder\u001b[0m\u001b[1;33m)\u001b[0m\u001b[1;33m\u001b[0m\u001b[1;33m\u001b[0m\u001b[0m\n\u001b[0m\u001b[0;32m    300\u001b[0m \u001b[1;33m\u001b[0m\u001b[0m\n\u001b[0;32m    301\u001b[0m \u001b[1;33m\u001b[0m\u001b[0m\n",
            "\u001b[1;32m~\\anaconda3\\lib\\site-packages\\numpy\\core\\fromnumeric.py\u001b[0m in \u001b[0;36m_wrapfunc\u001b[1;34m(obj, method, *args, **kwds)\u001b[0m\n\u001b[0;32m     56\u001b[0m \u001b[1;33m\u001b[0m\u001b[0m\n\u001b[0;32m     57\u001b[0m     \u001b[1;32mtry\u001b[0m\u001b[1;33m:\u001b[0m\u001b[1;33m\u001b[0m\u001b[1;33m\u001b[0m\u001b[0m\n\u001b[1;32m---> 58\u001b[1;33m         \u001b[1;32mreturn\u001b[0m \u001b[0mbound\u001b[0m\u001b[1;33m(\u001b[0m\u001b[1;33m*\u001b[0m\u001b[0margs\u001b[0m\u001b[1;33m,\u001b[0m \u001b[1;33m**\u001b[0m\u001b[0mkwds\u001b[0m\u001b[1;33m)\u001b[0m\u001b[1;33m\u001b[0m\u001b[1;33m\u001b[0m\u001b[0m\n\u001b[0m\u001b[0;32m     59\u001b[0m     \u001b[1;32mexcept\u001b[0m \u001b[0mTypeError\u001b[0m\u001b[1;33m:\u001b[0m\u001b[1;33m\u001b[0m\u001b[1;33m\u001b[0m\u001b[0m\n\u001b[0;32m     60\u001b[0m         \u001b[1;31m# A TypeError occurs if the object does have such a method in its\u001b[0m\u001b[1;33m\u001b[0m\u001b[1;33m\u001b[0m\u001b[1;33m\u001b[0m\u001b[0m\n",
            "\u001b[1;31mValueError\u001b[0m: cannot reshape array of size 10 into shape (3,3)"
          ]
        }
      ],
      "source": [
        "np.reshape(dados_originais, [3,3])"
      ]
    },
    {
      "cell_type": "markdown",
      "metadata": {
        "id": "LFpat6ERApPP"
      },
      "source": [
        "<img src = \"https://numpy.org/devdocs/_images/np_reshape.png\" />"
      ]
    },
    {
      "cell_type": "markdown",
      "metadata": {
        "id": "X-I0QSnrApPP"
      },
      "source": [
        "#### Operações com matrizes"
      ]
    },
    {
      "cell_type": "code",
      "execution_count": null,
      "metadata": {
        "id": "HYKubIyvApPQ",
        "outputId": "38f878a2-e774-4432-824e-538c59f59b97"
      },
      "outputs": [
        {
          "data": {
            "text/plain": [
              "array([[6, 6],\n",
              "       [1, 4]])"
            ]
          },
          "execution_count": 63,
          "metadata": {},
          "output_type": "execute_result"
        }
      ],
      "source": [
        "matriz1 = np.array([[1,2], [3,4]])\n",
        "matriz2 = np.array([[5,4], [-2,0]])\n",
        "matriz1+matriz2"
      ]
    },
    {
      "cell_type": "code",
      "execution_count": null,
      "metadata": {
        "id": "sZniNqA5ApPQ",
        "outputId": "01315799-efcc-40ce-b7a1-89b04ba907c5"
      },
      "outputs": [
        {
          "name": "stdout",
          "output_type": "stream",
          "text": [
            "[[1 2]\n",
            " [3 4]]\n",
            "[[ 5  4]\n",
            " [-2  0]]\n"
          ]
        }
      ],
      "source": [
        "print(matriz1)\n",
        "print(matriz2)"
      ]
    },
    {
      "cell_type": "markdown",
      "metadata": {
        "id": "KoQBjhyHApPQ"
      },
      "source": [
        "<img src=\"https://numpy.org/devdocs/_images/np_matrix_arithmetic.png\" />"
      ]
    },
    {
      "cell_type": "markdown",
      "metadata": {
        "id": "5_wBT9J6ApPQ"
      },
      "source": [
        "Diferentemente com arrays unidimensionais, conseguimos operar com matriz de tamanhos diferentes, **desde que sejam essencialmente um vetor-linha ou um vetor-coluna**."
      ]
    },
    {
      "cell_type": "code",
      "execution_count": null,
      "metadata": {
        "id": "yjdr-qLdApPR",
        "outputId": "94e47650-d8f0-4287-82aa-f997123f8da7"
      },
      "outputs": [
        {
          "data": {
            "text/plain": [
              "array([[2, 3],\n",
              "       [4, 5]])"
            ]
          },
          "execution_count": 65,
          "metadata": {},
          "output_type": "execute_result"
        }
      ],
      "source": [
        "array1 = [1,1]\n",
        "matriz1 + array1"
      ]
    },
    {
      "cell_type": "markdown",
      "metadata": {
        "id": "eYdkzaffApPR"
      },
      "source": [
        "<img src = \"https://numpy.org/devdocs/_images/np_matrix_broadcasting.png\" />"
      ]
    },
    {
      "cell_type": "code",
      "execution_count": null,
      "metadata": {
        "id": "0BGbDkmWApPR",
        "outputId": "9515f8b7-a4c2-4d16-f944-3b2ab0a7fd79"
      },
      "outputs": [
        {
          "name": "stdout",
          "output_type": "stream",
          "text": [
            "[[1 2]\n",
            " [3 4]]\n",
            "[[ 5  4]\n",
            " [-2  0]]\n"
          ]
        }
      ],
      "source": [
        "print(matriz1)\n",
        "print(matriz2)"
      ]
    },
    {
      "cell_type": "code",
      "execution_count": null,
      "metadata": {
        "id": "on306SQKApPR",
        "outputId": "aebad6fb-14cc-402e-9f39-36f313ead2b5"
      },
      "outputs": [
        {
          "data": {
            "text/plain": [
              "array([[ 5,  8],\n",
              "       [-6,  0]])"
            ]
          },
          "execution_count": 66,
          "metadata": {},
          "output_type": "execute_result"
        }
      ],
      "source": [
        "# multiplicação elemento a elemento\n",
        "matriz1 * matriz2"
      ]
    },
    {
      "cell_type": "code",
      "execution_count": null,
      "metadata": {
        "id": "PysT-YXgApPS",
        "outputId": "0222f832-627c-455d-d803-2768def1a0de"
      },
      "outputs": [
        {
          "data": {
            "text/plain": [
              "array([[ 1,  4],\n",
              "       [ 7, 12]])"
            ]
          },
          "execution_count": 91,
          "metadata": {},
          "output_type": "execute_result"
        }
      ],
      "source": [
        "# multiplicação de matrizes \"tradicional\"\n",
        "matriz1.dot(matriz2)"
      ]
    },
    {
      "cell_type": "markdown",
      "metadata": {
        "id": "cGLAE2tkApPS"
      },
      "source": [
        "Transpor a matriz equivale a \"trocar\" as linhas pelas colunas."
      ]
    },
    {
      "cell_type": "code",
      "execution_count": null,
      "metadata": {
        "id": "bLzoj8MWApPS",
        "outputId": "88cc1c0c-a5c1-4476-da5b-2508f797dc51"
      },
      "outputs": [
        {
          "data": {
            "text/plain": [
              "array([[1, 2],\n",
              "       [3, 4],\n",
              "       [5, 6]])"
            ]
          },
          "execution_count": 68,
          "metadata": {},
          "output_type": "execute_result"
        }
      ],
      "source": [
        "data"
      ]
    },
    {
      "cell_type": "code",
      "execution_count": null,
      "metadata": {
        "id": "aIIYL2W7ApPT",
        "outputId": "3fca9545-2a69-431c-f92b-4e4415e6e18e"
      },
      "outputs": [
        {
          "data": {
            "text/plain": [
              "array([[1, 3, 5],\n",
              "       [2, 4, 6]])"
            ]
          },
          "execution_count": 71,
          "metadata": {},
          "output_type": "execute_result"
        }
      ],
      "source": [
        "data.transpose()"
      ]
    },
    {
      "cell_type": "markdown",
      "metadata": {
        "id": "AUhYi6PUApPT"
      },
      "source": [
        "<img src = \"https://numpy.org/devdocs/_images/np_transposing_reshaping.png\" />"
      ]
    },
    {
      "cell_type": "markdown",
      "metadata": {
        "id": "ZhXeb8AYApPT"
      },
      "source": [
        "#### Filtrando matrizes "
      ]
    },
    {
      "cell_type": "markdown",
      "metadata": {
        "id": "p9yawf0dApPT"
      },
      "source": [
        "Seguimos a mesma lógica de filtros em arrays unidimensionais, com a particularidade de que estamos lidando, agora, com mais de uma dimensão - e podemos levar isso em consideração."
      ]
    },
    {
      "cell_type": "code",
      "execution_count": null,
      "metadata": {
        "id": "aJ7iBbzpApPT",
        "outputId": "a58c4f0b-b9c2-475c-b5e0-6db5d3aefe7d"
      },
      "outputs": [
        {
          "data": {
            "text/plain": [
              "array([[1, 2],\n",
              "       [3, 4],\n",
              "       [5, 6]])"
            ]
          },
          "execution_count": 73,
          "metadata": {},
          "output_type": "execute_result"
        }
      ],
      "source": [
        "data"
      ]
    },
    {
      "cell_type": "code",
      "execution_count": null,
      "metadata": {
        "id": "k3H4Cgo-ApPU",
        "outputId": "89d52296-9312-40e8-a8dd-0b2e294afffc"
      },
      "outputs": [
        {
          "data": {
            "text/plain": [
              "array([[False, False],\n",
              "       [ True,  True],\n",
              "       [ True,  True]])"
            ]
          },
          "execution_count": 72,
          "metadata": {},
          "output_type": "execute_result"
        }
      ],
      "source": [
        "# filtrando a matriz como um todo\n",
        "data > 2"
      ]
    },
    {
      "cell_type": "code",
      "execution_count": null,
      "metadata": {
        "id": "DBGBqV4TApPU",
        "outputId": "c61194ff-aa81-4e36-a2a2-10a4370505de"
      },
      "outputs": [
        {
          "data": {
            "text/plain": [
              "array([[1, 2],\n",
              "       [3, 4],\n",
              "       [5, 6]])"
            ]
          },
          "execution_count": 75,
          "metadata": {},
          "output_type": "execute_result"
        }
      ],
      "source": [
        "data"
      ]
    },
    {
      "cell_type": "code",
      "execution_count": null,
      "metadata": {
        "id": "UJn8Vz8MApPU",
        "outputId": "7152d4d3-e6c0-44cd-d570-fb5b673ce65c"
      },
      "outputs": [
        {
          "data": {
            "text/plain": [
              "array([False,  True])"
            ]
          },
          "execution_count": 74,
          "metadata": {},
          "output_type": "execute_result"
        }
      ],
      "source": [
        "# filtrando o primeiro elemento de cada coluna\n",
        "data[0,:] > 1"
      ]
    },
    {
      "cell_type": "code",
      "execution_count": null,
      "metadata": {
        "id": "LzFoZ0MaApPU",
        "outputId": "5c5fef04-ad99-4d6a-92a3-b1080168ef8c"
      },
      "outputs": [
        {
          "data": {
            "text/plain": [
              "array([False, False,  True])"
            ]
          },
          "execution_count": 76,
          "metadata": {},
          "output_type": "execute_result"
        }
      ],
      "source": [
        "# filtrando o segundo elemento de cada linha\n",
        "data[:,1] > 4"
      ]
    },
    {
      "cell_type": "markdown",
      "metadata": {
        "id": "SzbMsXXtApPV"
      },
      "source": [
        "Assim como fizemos anteriromente, podemos utilizar esse array booleano para indexar a matriz original."
      ]
    },
    {
      "cell_type": "code",
      "execution_count": null,
      "metadata": {
        "id": "QQ8Rt8Y6ApPV",
        "outputId": "4793760b-d4f3-4334-8e7b-35ecf73bda04"
      },
      "outputs": [
        {
          "data": {
            "text/plain": [
              "array([[1, 2],\n",
              "       [3, 4],\n",
              "       [5, 6]])"
            ]
          },
          "execution_count": 77,
          "metadata": {},
          "output_type": "execute_result"
        }
      ],
      "source": [
        "data"
      ]
    },
    {
      "cell_type": "code",
      "execution_count": null,
      "metadata": {
        "id": "DsXbnb4ZApPV",
        "outputId": "2db57dfe-c6b0-4dac-fbfc-a0cee6a112f4"
      },
      "outputs": [
        {
          "data": {
            "text/plain": [
              "array([[5, 6]])"
            ]
          },
          "execution_count": 78,
          "metadata": {},
          "output_type": "execute_result"
        }
      ],
      "source": [
        "data[data[:,1] > 4]"
      ]
    },
    {
      "cell_type": "markdown",
      "metadata": {
        "id": "fcBDfp1kApPV"
      },
      "source": [
        "Um outro exemplo"
      ]
    },
    {
      "cell_type": "code",
      "execution_count": null,
      "metadata": {
        "id": "zzDliAH1ApPW",
        "outputId": "9da181ac-255e-47b2-ec5e-b1f227bf3f07"
      },
      "outputs": [
        {
          "data": {
            "text/plain": [
              "array([[-1.76876493,  1.47004434, -0.70053502,  0.1838811 ],\n",
              "       [ 0.29015436, -1.34799717, -1.0216732 ,  0.14929889],\n",
              "       [ 2.87004739,  1.31593476,  0.01570878,  0.28678643],\n",
              "       [ 1.44978685,  0.86969622, -0.44805814, -1.32398849]])"
            ]
          },
          "execution_count": 79,
          "metadata": {},
          "output_type": "execute_result"
        }
      ],
      "source": [
        "# Vamos gerar uma matriz 4 x 4 aleatoriamente\n",
        "matriz = np.random.randn(4,4)\n",
        "matriz"
      ]
    },
    {
      "cell_type": "code",
      "execution_count": null,
      "metadata": {
        "id": "GgJ7-N01ApPW",
        "outputId": "7c0679d7-6265-4155-d416-0496beb2b6b3"
      },
      "outputs": [
        {
          "data": {
            "text/plain": [
              "array([ 1.47004434, -1.34799717,  1.31593476,  0.86969622])"
            ]
          },
          "execution_count": 87,
          "metadata": {},
          "output_type": "execute_result"
        }
      ],
      "source": [
        "matriz[:,1]"
      ]
    },
    {
      "cell_type": "code",
      "execution_count": null,
      "metadata": {
        "id": "LBMgEoslApPW",
        "outputId": "7efee4fc-0d48-479c-fb08-519dfc14c19e"
      },
      "outputs": [
        {
          "data": {
            "text/plain": [
              "array([ True, False,  True,  True])"
            ]
          },
          "execution_count": 80,
          "metadata": {},
          "output_type": "execute_result"
        }
      ],
      "source": [
        "# Filtremos todas as linhas cuja segunda coluna seja positiva\n",
        "matriz[:,1] > 0"
      ]
    },
    {
      "cell_type": "code",
      "execution_count": null,
      "metadata": {
        "id": "vyBWKrGGApPW",
        "outputId": "98fb1d08-cffb-4ddf-fd19-7c5e0b02caeb"
      },
      "outputs": [
        {
          "data": {
            "text/plain": [
              "array([[-1.76876493, -0.70053502,  0.1838811 ],\n",
              "       [ 0.29015436, -1.0216732 ,  0.14929889],\n",
              "       [ 2.87004739,  0.01570878,  0.28678643],\n",
              "       [ 1.44978685, -0.44805814, -1.32398849]])"
            ]
          },
          "execution_count": 88,
          "metadata": {},
          "output_type": "execute_result"
        }
      ],
      "source": [
        "matriz[:,matriz[:,1] > 0]"
      ]
    },
    {
      "cell_type": "code",
      "execution_count": null,
      "metadata": {
        "id": "goUaKQEOApPX",
        "outputId": "571d6bc8-047c-4a4c-f28d-fbf6818df362"
      },
      "outputs": [
        {
          "data": {
            "text/plain": [
              "array([[-1.76876493,  1.47004434, -0.70053502,  0.1838811 ],\n",
              "       [ 2.87004739,  1.31593476,  0.01570878,  0.28678643],\n",
              "       [ 1.44978685,  0.86969622, -0.44805814, -1.32398849]])"
            ]
          },
          "execution_count": 86,
          "metadata": {},
          "output_type": "execute_result"
        }
      ],
      "source": [
        "# Agora, indexemos a matriz\n",
        "matriz[matriz[:,1] > 0, :]"
      ]
    },
    {
      "cell_type": "markdown",
      "metadata": {
        "id": "5_qMuWW0ApPX"
      },
      "source": [
        "__________\n",
        "___________"
      ]
    },
    {
      "cell_type": "markdown",
      "metadata": {
        "id": "ioP7bvLQApPX"
      },
      "source": [
        "## Vamos praticar?"
      ]
    },
    {
      "cell_type": "markdown",
      "metadata": {
        "id": "1wxuBwmWApPX"
      },
      "source": [
        "Em grupos, resolvam os exercícios a seguir."
      ]
    },
    {
      "cell_type": "markdown",
      "metadata": {
        "id": "OYy4ktDPApPX"
      },
      "source": [
        "**1.** Em uma **análise de regressão**, usualmente estamos interessados em descrever relações entre variáveis de um dado conjunto de dados por meio de uma **função** que descreva, o tanto quanto possível, estas relações.\n",
        "\n",
        "Por exemplo, no gráfico abaixo, os pontos vermelhos relacionam as medidas das duas variáveis sendo avaliadas (nos eixos x e y); e a linha azul aproxima a relação entre elas por uma função linear."
      ]
    },
    {
      "cell_type": "markdown",
      "metadata": {
        "id": "j9W7I_7BApPY"
      },
      "source": [
        "É possível ver que nem todos os pontos obedecem exatamente à relação ditada pela reta (isto é, há pontos que não estão exatamente \"sobre a reta\"; mas, sim, ligeraimente acima, ou abaixo, dela). Isto, contudo, é esperado em um modelo de regressão, por inúmeras fontes de incerteza associadas às medições."
      ]
    },
    {
      "cell_type": "markdown",
      "metadata": {
        "id": "PSGOxwU9ApPY"
      },
      "source": [
        "Uma das métricas que utilizamos para avaliar a qualidade de uma regressão é o **erro quadrático médio (EQM)**, que mensura a diferença total entre cada predição da regressão ($y_{prediction}$; que no nosso caso seriam os valores de y para a reta azul) com o valor real de cada i-ésima medida ($y_{i}$; que no nosso caso seriam as coordenadas y para cada ponto vermelho do gráfico). O EQM pode ser definido como:"
      ]
    },
    {
      "cell_type": "markdown",
      "metadata": {
        "id": "Vtd8U8aHApPY"
      },
      "source": [
        "$EQM = \\frac{1}{n}\\sum_{i=1}^{n}(y_{prediction} - y_{i})^2$."
      ]
    },
    {
      "cell_type": "markdown",
      "metadata": {
        "id": "qmftxscJApPY"
      },
      "source": [
        "Isto posto, escreva uma função que calcule o EQM recebendo, como entrada, os vetores $y_{prediction}$ e $y_{i}$. Por exemplo, digamos que sua função se chame *calculate_eqm*, ela deve operar da seguinte forma:"
      ]
    },
    {
      "cell_type": "code",
      "execution_count": null,
      "metadata": {
        "id": "QrRbAHSgApPZ",
        "outputId": "795b4857-113b-428d-cba7-bea67c279fe5"
      },
      "outputs": [
        {
          "data": {
            "text/plain": [
              "1.6666666666666665"
            ]
          },
          "execution_count": 88,
          "metadata": {},
          "output_type": "execute_result"
        }
      ],
      "source": [
        "# dados dois arrays quaisquer de mesmo tamanho, a função deve retornar o EQM\n",
        "y_prediction = np.array([1,2,3])\n",
        "y_i = np.array([0,0,3])\n",
        "calculate_eqm(y_prediction,y_i)"
      ]
    },
    {
      "cell_type": "code",
      "execution_count": null,
      "metadata": {
        "colab": {
          "base_uri": "https://localhost:8080/"
        },
        "id": "EJNrxjsCApPZ",
        "outputId": "c074c7a4-1ab7-4949-bf6b-6d3b594adb55"
      },
      "outputs": [
        {
          "output_type": "stream",
          "name": "stdout",
          "text": [
            "1.6666666666666667\n"
          ]
        }
      ],
      "source": [
        "# Solução\n",
        "import numpy as np\n",
        "\n",
        "def calculate_eqm(y_prediction, y_i):\n",
        "    return np.sum(np.square(y_prediction - y_i)) / np.size(y_prediction)\n",
        "\n",
        "y_prediction = np.array([1,2,3])\n",
        "y_i = np.array([0,0,3])\n",
        "\n",
        "print(calculate_eqm(y_prediction, y_i))"
      ]
    },
    {
      "cell_type": "markdown",
      "metadata": {
        "id": "5_kKFSUrApPZ"
      },
      "source": [
        "**2.** A eletroencefalografia (EEG) é uma técnica que mensura potenciais elétricos cerebrais em diversas regiões do escalpo do paciente. Suponha que você recebeu um conjunto de dados na forma de uma matriz de 64 x 512 elementos, em que cada linha contém o sinal gravado em um dos **eletrodos** espalhados pelo escalpo em um exame de EEG, e cada coluna contém um valor de potencial elétrico, em microvolts. "
      ]
    },
    {
      "cell_type": "markdown",
      "metadata": {
        "id": "qUs4i83BApPZ"
      },
      "source": [
        "Como o sinal de EEG é muito suscetível a ruídos externos (interferências na qualidade do sinal), uma operação comum para atenuar a interferência no sinal consiste em tirar a média do potencial elétrico de todos os eletrodos, e subtrair este valor de cada um deles. Isto atenua fontes de ruído ao sinal comuns a todos os eletrodos. Em termos matemáticos, o sinal processado por esta operação, $X_{e,i}$ para cada eletrodo (e) e amostra (i), é dado por:"
      ]
    },
    {
      "cell_type": "markdown",
      "metadata": {
        "id": "5V5oVc-vApPa"
      },
      "source": [
        "$X_{e,i} = \\hat{X_{e,i}} - \\frac{1}{N}\\sum_{e=1}^{N}\\hat{X_{e,i}}$,\n",
        "\n",
        "em que $\\hat{X_{e,i}}$ representa o sinal original (ou seja, é a matriz de entrada de 64 x 512 elementos), e $N$ indica o total de eletrodos."
      ]
    },
    {
      "cell_type": "markdown",
      "metadata": {
        "id": "LzFOhn06ApPa"
      },
      "source": [
        "Com o exposto acima, escreva uma função que retorne uma matriz com os sinais de EEG processados conforme a operação mencionada. Sua função deve operar conforme o exemplo abaixo."
      ]
    },
    {
      "cell_type": "code",
      "execution_count": null,
      "metadata": {
        "id": "DEBSWXEiApPa",
        "outputId": "175adb8d-afbd-4a89-b1bc-259253fccc0f"
      },
      "outputs": [
        {
          "data": {
            "text/plain": [
              "(64, 512)"
            ]
          },
          "execution_count": 89,
          "metadata": {},
          "output_type": "execute_result"
        }
      ],
      "source": [
        "# vamos supor uma matriz de entrada gerada por dados aleatórios\n",
        "X = np.random.randn(64,512)\n",
        "X.shape # apenas para verificar as dimensões"
      ]
    },
    {
      "cell_type": "code",
      "execution_count": null,
      "metadata": {
        "id": "AK3xDjrUApPa",
        "outputId": "e017718f-0fc3-4363-ed38-eb34719649ca"
      },
      "outputs": [
        {
          "data": {
            "text/plain": [
              "(64, 512)"
            ]
          },
          "execution_count": 92,
          "metadata": {},
          "output_type": "execute_result"
        }
      ],
      "source": [
        "# a função deve executar a operação equacionada anteriormente, retornando uma nova matriz\n",
        "X_processado = process_EEG_signal(X)\n",
        "X_processado.shape"
      ]
    },
    {
      "cell_type": "code",
      "execution_count": null,
      "metadata": {
        "id": "9331iKjvApPb",
        "outputId": "03cf7977-3cae-4d94-aa41-9662f1329249"
      },
      "outputs": [
        {
          "data": {
            "text/plain": [
              "-53.08727366483029"
            ]
          },
          "execution_count": 93,
          "metadata": {},
          "output_type": "execute_result"
        }
      ],
      "source": [
        "# Somando as diferenças entre cada elemento das duas matrizes, apenas para ilustrar que elas não são iguais\n",
        "(X_processado - X).sum()"
      ]
    },
    {
      "cell_type": "code",
      "execution_count": null,
      "metadata": {
        "id": "mghFYtJPApPb",
        "outputId": "cd0f6728-ce7a-401c-888b-a839380d5640"
      },
      "outputs": [
        {
          "data": {
            "text/plain": [
              "array([[ 0.29305925,  0.89663038, -0.61032202, ..., -0.88086364,\n",
              "        -0.8818789 ,  0.51260497],\n",
              "       [-0.01274415,  1.05439522,  0.47958092, ..., -2.15387924,\n",
              "         0.70721168,  0.97029889],\n",
              "       [ 1.09478371, -0.16120847,  1.58400361, ...,  0.20981813,\n",
              "         2.17373837,  0.94032162],\n",
              "       ...,\n",
              "       [-0.45294842, -2.28939505,  1.10111998, ...,  1.63581703,\n",
              "        -0.39394924, -1.13400723],\n",
              "       [-0.22669886,  0.25413429, -1.17870637, ..., -0.09509442,\n",
              "         0.90733806,  0.37999411],\n",
              "       [ 0.15476933, -0.03654717, -1.09982762, ...,  0.67600047,\n",
              "        -0.84533328, -0.56433144]])"
            ]
          },
          "execution_count": 94,
          "metadata": {},
          "output_type": "execute_result"
        }
      ],
      "source": [
        "# Visualizando as matrizes, para verificar uma vez mais que, de fato, os elementos são diferentes\n",
        "X"
      ]
    },
    {
      "cell_type": "code",
      "execution_count": null,
      "metadata": {
        "id": "Yeowbh-wApPb",
        "outputId": "90096c6d-ae89-4f1c-b310-452092d60126"
      },
      "outputs": [
        {
          "data": {
            "text/plain": [
              "array([[ 0.36713022,  0.85772513, -0.54902169, ..., -0.85626087,\n",
              "        -0.97611435,  0.51718998],\n",
              "       [ 0.06132682,  1.01548997,  0.54088126, ..., -2.12927647,\n",
              "         0.61297623,  0.97488389],\n",
              "       [ 1.16885469, -0.20011372,  1.64530394, ...,  0.23442091,\n",
              "         2.07950292,  0.94490663],\n",
              "       ...,\n",
              "       [-0.37887744, -2.3283003 ,  1.16242031, ...,  1.6604198 ,\n",
              "        -0.4881847 , -1.12942223],\n",
              "       [-0.15262788,  0.21522904, -1.11740604, ..., -0.07049164,\n",
              "         0.81310261,  0.38457911],\n",
              "       [ 0.22884031, -0.07545242, -1.03852729, ...,  0.70060324,\n",
              "        -0.93956874, -0.55974643]])"
            ]
          },
          "execution_count": 95,
          "metadata": {},
          "output_type": "execute_result"
        }
      ],
      "source": [
        "# Matriz após o processamento descrito no enunciado\n",
        "X_processado"
      ]
    },
    {
      "cell_type": "code",
      "execution_count": null,
      "metadata": {
        "id": "D-Msp-6zApPc",
        "colab": {
          "base_uri": "https://localhost:8080/"
        },
        "outputId": "f94f4d17-d4b7-4147-e845-cad88cd0efa4"
      },
      "outputs": [
        {
          "output_type": "stream",
          "name": "stdout",
          "text": [
            "[[-1.54202744 -0.45147332  0.08307027 ...  0.93121127  0.72152097\n",
            "  -0.14267849]\n",
            " [ 0.59512847 -1.16485013 -1.10277352 ...  0.40758706  1.26191686\n",
            "   0.63754996]\n",
            " [ 0.12731023  0.89581519 -0.67209183 ... -0.14828445  0.84434063\n",
            "   0.75454181]\n",
            " ...\n",
            " [ 0.91736722 -0.51304413  0.24457684 ...  2.17369325  0.65556554\n",
            "   1.09866459]\n",
            " [ 0.17055974 -0.32485642  1.22029761 ... -2.04747616 -0.91327759\n",
            "  -0.03070242]\n",
            " [ 0.53766389 -0.70200126 -0.85264325 ...  1.0702633   0.51122179\n",
            "  -0.95608317]]\n"
          ]
        }
      ],
      "source": [
        "# Solução\n",
        "import numpy as np\n",
        "\n",
        "x = np.random.randn(64, 512)\n",
        "\n",
        "def process_EEG_signal(matriz):\n",
        "    return np.array(matriz - np.mean(matriz))\n",
        "\n",
        "print(process_EEG_signal(x))"
      ]
    },
    {
      "cell_type": "markdown",
      "metadata": {
        "id": "qLwmy_AyApPc"
      },
      "source": [
        "**3.** Em estatística, um **outlier** é um valor que destoa consideravelmente da distribuição à qual está associado. Um dos critérios para idenficar outliers consiste em encontrar a **distância interquantil** (IQR), ou seja, a diferença entre o terceiro (Q3) e o primeiro quartis (Q1) da distribuição, e tomar como outliers todos os pontos abaixo de 1.5*IQR - Q1, ou acima de 1.5*IQR + Q3."
      ]
    },
    {
      "cell_type": "markdown",
      "metadata": {
        "id": "mVw00CNfApPc"
      },
      "source": [
        "<img src = \"https://blog.curso-r.com/images/posts/banner/outlier.webp\" />"
      ]
    },
    {
      "cell_type": "markdown",
      "metadata": {
        "id": "fRaFrT4AApPc"
      },
      "source": [
        "Escreva uma função que, dada uma matriz de dados de entrada de dimensões $N_{observações} \\times N_{features}$ retorne três requisitos: \n",
        "- uma matriz booleana indicando a existência de outliers nos dados de entrada;\n",
        "- a quantidade de outliers\n",
        "- quem são os outliers (os valores)."
      ]
    },
    {
      "cell_type": "markdown",
      "metadata": {
        "id": "VzQms5qjApPc"
      },
      "source": [
        "**Algumas definições:**\n",
        "- um *quantil* divide a distribuição, após ordenados os pontos, segundo algum ponto de corte;\n",
        "- o **primeiro quartil** é o ponto para o qual 25 % dos valores da distribuição estão abaixo dele;\n",
        "- o **terceiro quartil** é o ponto para o qual 75 % dos valores da distribuição estão abaixo dele.\n",
        "\n",
        "Pode ser útil consultar a função **numpy.quantile**."
      ]
    },
    {
      "cell_type": "markdown",
      "metadata": {
        "id": "hA_ySiDYApPd"
      },
      "source": [
        "Exemplo de operação da função:"
      ]
    },
    {
      "cell_type": "code",
      "execution_count": null,
      "metadata": {
        "id": "jjaCSK52ApPd",
        "outputId": "94a3333c-85ff-4005-c590-9d1041c2663f"
      },
      "outputs": [
        {
          "data": {
            "text/plain": [
              "array([[-2.02108952,  0.57945921, -2.23074965, ..., -0.60349514,\n",
              "         0.92180452, -0.15625722],\n",
              "       [ 0.24904397,  0.03493447,  0.3515052 , ..., -0.46950081,\n",
              "         0.20361331,  0.02715956],\n",
              "       [ 0.55902525, -0.48435434,  0.90413414, ..., -0.54425743,\n",
              "        -0.80769134, -0.07912549],\n",
              "       ...,\n",
              "       [-1.04069388, -0.24245725, -2.00308877, ...,  0.4084777 ,\n",
              "        -1.81516131,  0.39063118],\n",
              "       [-1.39275097,  0.3989636 ,  0.2926223 , ...,  1.2620666 ,\n",
              "         0.72262949,  1.50737559],\n",
              "       [ 0.15922011, -0.79810788, -1.60939896, ..., -0.08214499,\n",
              "        -0.13167475,  0.15990558]])"
            ]
          },
          "execution_count": 158,
          "metadata": {},
          "output_type": "execute_result"
        }
      ],
      "source": [
        "# Geremos um conjunto de dados qualquer\n",
        "X = np.random.randn(300,15)\n",
        "X"
      ]
    },
    {
      "cell_type": "code",
      "execution_count": null,
      "metadata": {
        "id": "pWzGXQjDApPd"
      },
      "outputs": [],
      "source": [
        "# identificamos os requisitos com nossa com nossa função \"locate_outliers\"\n",
        "is_outlier, outliers_count, outliers = locate_outliers(X)"
      ]
    },
    {
      "cell_type": "code",
      "execution_count": null,
      "metadata": {
        "id": "udQOnkW6ApPd",
        "outputId": "7ce2c343-80e5-46c6-a50a-624839898f88"
      },
      "outputs": [
        {
          "data": {
            "text/plain": [
              "array([[False, False, False, ..., False, False, False],\n",
              "       [False, False, False, ..., False, False, False],\n",
              "       [False, False, False, ..., False, False, False],\n",
              "       ...,\n",
              "       [False, False, False, ..., False, False, False],\n",
              "       [False, False, False, ..., False, False, False],\n",
              "       [False, False, False, ..., False, False, False]])"
            ]
          },
          "execution_count": 168,
          "metadata": {},
          "output_type": "execute_result"
        }
      ],
      "source": [
        "is_outlier"
      ]
    },
    {
      "cell_type": "code",
      "execution_count": null,
      "metadata": {
        "id": "FCw5KxbRApPe",
        "outputId": "198dc8ea-1929-4ced-f583-997c5cbd4482"
      },
      "outputs": [
        {
          "data": {
            "text/plain": [
              "44"
            ]
          },
          "execution_count": 165,
          "metadata": {},
          "output_type": "execute_result"
        }
      ],
      "source": [
        "outliers_count"
      ]
    },
    {
      "cell_type": "code",
      "execution_count": null,
      "metadata": {
        "id": "QUeenxjvApPe",
        "outputId": "b634c4f0-764e-40ff-c412-457a669fc428"
      },
      "outputs": [
        {
          "data": {
            "text/plain": [
              "array([-2.67240384,  3.00270904,  3.62317101,  3.18867865,  2.55581522,\n",
              "       -2.82091429,  2.8757892 ,  2.70666036,  3.19514999, -3.40550318,\n",
              "       -3.39825827,  2.6727295 ,  2.54498296, -2.69447104,  3.19521603,\n",
              "        2.66372172, -2.77444948,  2.77421152,  2.69992869, -2.84831109,\n",
              "       -2.83695779, -2.45908227,  3.07802106,  2.89314015, -2.68574682,\n",
              "       -2.85019494,  2.43399574,  2.44291266, -2.92595937, -2.95911074,\n",
              "       -3.03966003,  2.77543068, -2.67368414, -2.79965402, -3.0501958 ,\n",
              "       -2.5437387 ,  3.08550649, -3.17666255, -3.05795476, -3.09826467,\n",
              "        3.1399469 ,  3.18141942,  2.90564257, -2.89505054])"
            ]
          },
          "execution_count": 166,
          "metadata": {},
          "output_type": "execute_result"
        }
      ],
      "source": [
        "outliers"
      ]
    },
    {
      "cell_type": "code",
      "execution_count": null,
      "metadata": {
        "id": "kv5rAJaXApPe"
      },
      "outputs": [],
      "source": [
        "# Solução\n",
        "import numpy as np\n",
        "\n",
        "def outliers(matriz):\n",
        "    Q1 = np.quantile(matriz, .25)\n",
        "    Q3 = np.quantile(matriz, .75)\n",
        "    IQR = Q3 - Q1\n",
        "    limite_acima = 1.5 * IQR + Q3\n",
        "    limite_abaixo = 1.5 * IQR - Q1\n",
        "    outlier_bool = (matriz > limite_acima) | (matriz < limite_abaixo)\n",
        "    outlier_count = np.sum(outlier_bool)\n",
        "    outlier_numbers = matriz[(matriz > limite_acima) | (matriz < limite_abaixo)]\n",
        "    return f\"Limit Above: {limite_acima}\\n\\nLimit Below: {limite_abaixo}\\n\\nIs Outlier Bool:\\n\\n{outlier_bool}\\n\\nOutliers Count: {outlier_count}\\n\\nOutliers:\\n\\n{outlier_numbers}\"\n",
        "\n",
        "x = np.random.randn(300,15)\n",
        "print(outliers(x))"
      ]
    }
  ],
  "metadata": {
    "kernelspec": {
      "display_name": "Python 3",
      "language": "python",
      "name": "python3"
    },
    "language_info": {
      "codemirror_mode": {
        "name": "ipython",
        "version": 3
      },
      "file_extension": ".py",
      "mimetype": "text/x-python",
      "name": "python",
      "nbconvert_exporter": "python",
      "pygments_lexer": "ipython3",
      "version": "3.8.5"
    },
    "colab": {
      "provenance": []
    }
  },
  "nbformat": 4,
  "nbformat_minor": 0
}